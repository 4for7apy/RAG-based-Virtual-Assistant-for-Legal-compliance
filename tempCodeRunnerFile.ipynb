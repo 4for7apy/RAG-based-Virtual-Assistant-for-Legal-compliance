flag = True
# while flag:
#   query = input("Human:")
#   if query != "quit":
#     print("AI: ", qa.run(query))
#   else:
#     flag = False
